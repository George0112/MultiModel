{
 "cells": [
  {
   "cell_type": "code",
   "execution_count": 15,
   "metadata": {},
   "outputs": [],
   "source": [
    "import kfp.dsl as dsl\n",
    "import kfp\n",
    "import yaml\n",
    "from kubernetes import client as k8s"
   ]
  },
  {
   "cell_type": "code",
   "execution_count": 17,
   "metadata": {},
   "outputs": [],
   "source": [
    "@dsl.pipeline(\n",
    "  name='MultiModel',\n",
    "  description='A pipeline for multi model orchestration'\n",
    ")\n",
    "def multiModel(size_of_pvc=\"1Gi\",\n",
    "              img_url=\"https://www.sciencemag.org/sites/default/files/styles/article_main_image_-_1280w__no_aspect_/public/dogs_1280p_0.jpg?itok=6jQzdNB8\"):\n",
    "    \"\"\"\n",
    "    Pipeline\n",
    "    \"\"\"\n",
    "    vop = dsl.VolumeOp(\n",
    "      name='my-pvc',\n",
    "      resource_name=\"my-pvc\",\n",
    "      modes=[\"ReadWriteMany\"],\n",
    "      size=size_of_pvc\n",
    "    )\n",
    "    \n",
    "    inference_step = dsl.ContainerOp(\n",
    "        name='inference',\n",
    "        image='chaowen/keras_catsdogs_inference',\n",
    "        command='python',\n",
    "        arguments=['Classifier.py', \n",
    "                   '--url', img_url],\n",
    "        pvolumes={\"/mnt\": vop.volume}\n",
    "    )\n",
    "    \n",
    "    \n",
    "if __name__ == '__main__':\n",
    "    import kfp.compiler as compiler\n",
    "    conf = kfp.dsl.PipelineConf()\n",
    "\n",
    "    workflow_dict = kfp.compiler.Compiler()._create_workflow(multiModel, pipeline_conf=conf)\n",
    "    workflow_dict['metadata']['namespace'] = \"default\"\n",
    "    del workflow_dict['spec']['serviceAccountName']\n",
    "    kfp.compiler.Compiler._write_workflow(workflow_dict, 'multimodel.yaml')\n",
    "#     compiler.Compiler().compile(multiModel, 'multi-model.tar.gz')"
   ]
  },
  {
   "cell_type": "code",
   "execution_count": 10,
   "metadata": {},
   "outputs": [],
   "source": [
    "import kfp\n",
    "\n",
    "@kfp.components.func_to_container_op\n",
    "def print_func(param: int):\n",
    "  print(str(param))\n",
    "\n",
    "@kfp.components.func_to_container_op\n",
    "def list_func(param: int) -> list:\n",
    "  return list(range(param))\n",
    "\n",
    "@kfp.dsl.pipeline(name='pipeline')\n",
    "def pipeline(param: int):\n",
    "  list_func_op = list_func(param)\n",
    "#   with kfp.dsl.ParallelFor(list_func_op.output) as param:\n",
    "#     print_func(param)\n",
    "\n",
    "if __name__ == '__main__':\n",
    "    # config pipeline level artifact location\n",
    "    conf = kfp.dsl.PipelineConf()\n",
    "\n",
    "    workflow_dict = kfp.compiler.Compiler()._create_workflow(pipeline,pipeline_conf=conf)\n",
    "    workflow_dict['metadata']['namespace'] = \"default\"\n",
    "    del workflow_dict['spec']['serviceAccountName']\n",
    "    kfp.compiler.Compiler._write_workflow(workflow_dict, \"parallel-for-pipeline.yaml\")"
   ]
  },
  {
   "cell_type": "code",
   "execution_count": null,
   "metadata": {},
   "outputs": [],
   "source": []
  },
  {
   "cell_type": "code",
   "execution_count": null,
   "metadata": {},
   "outputs": [],
   "source": []
  },
  {
   "cell_type": "code",
   "execution_count": null,
   "metadata": {},
   "outputs": [],
   "source": []
  }
 ],
 "metadata": {
  "kernelspec": {
   "display_name": "Python 3",
   "language": "python",
   "name": "python3"
  },
  "language_info": {
   "codemirror_mode": {
    "name": "ipython",
    "version": 3
   },
   "file_extension": ".py",
   "mimetype": "text/x-python",
   "name": "python",
   "nbconvert_exporter": "python",
   "pygments_lexer": "ipython3",
   "version": "3.6.9"
  }
 },
 "nbformat": 4,
 "nbformat_minor": 4
}
