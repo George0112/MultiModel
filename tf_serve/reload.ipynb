{
 "cells": [
  {
   "cell_type": "code",
   "execution_count": 4,
   "metadata": {},
   "outputs": [
    {
     "name": "stdout",
     "output_type": "stream",
     "text": [
      "True\n",
      "[(<google.protobuf.pyext._message.FieldDescriptor object at 0x7fe468fdc5c0>, model_config_list {\n",
      "  config {\n",
      "    name: \"catsdogs\"\n",
      "    base_path: \"/models/catsdogs\"\n",
      "    model_platform: \"tensorflow\"\n",
      "  }\n",
      "}\n",
      ")]\n",
      "Reload sucessfully\n"
     ]
    }
   ],
   "source": [
    "from tensorflow_serving.apis import model_service_pb2_grpc\n",
    "from tensorflow_serving.apis import model_management_pb2\n",
    "from tensorflow_serving.config import model_server_config_pb2\n",
    "\n",
    "import grpc\n",
    "\n",
    "def add_model_config(host, name, base_path, model_platform):\n",
    "  channel = grpc.insecure_channel(host) \n",
    "  stub = model_service_pb2_grpc.ModelServiceStub(channel)\n",
    "  request = model_management_pb2.ReloadConfigRequest() \n",
    "  model_server_config = model_server_config_pb2.ModelServerConfig()\n",
    "\n",
    "  #Create a config to add to the list of served models\n",
    "  config_list = model_server_config_pb2.ModelConfigList()       \n",
    "  one_config = config_list.config.add()\n",
    "  one_config.name= name\n",
    "  one_config.base_path=base_path\n",
    "  one_config.model_platform=model_platform\n",
    "\n",
    "  model_server_config.model_config_list.CopyFrom(config_list)\n",
    "\n",
    "  request.config.CopyFrom(model_server_config)\n",
    "\n",
    "  print(request.IsInitialized())\n",
    "  print(request.ListFields())\n",
    "\n",
    "  response = stub.HandleReloadConfigRequest(request,10)\n",
    "  if response.status.error_code == 0:\n",
    "      print(\"Reload sucessfully\")\n",
    "  else:\n",
    "      print(\"Reload failed!\")\n",
    "      print(response.status.error_code)\n",
    "      print(response.status.error_message)\n",
    "\n",
    "\n",
    "add_model_config(host=\"140.114.79.72:30500\", \n",
    "                    name=\"catsdogs\", \n",
    "                    base_path=\"/models/catsdogs\", \n",
    "                    model_platform=\"tensorflow\")"
   ]
  },
  {
   "cell_type": "code",
   "execution_count": null,
   "metadata": {},
   "outputs": [],
   "source": []
  }
 ],
 "metadata": {
  "kernelspec": {
   "display_name": "Python 3",
   "language": "python",
   "name": "python3"
  },
  "language_info": {
   "codemirror_mode": {
    "name": "ipython",
    "version": 3
   },
   "file_extension": ".py",
   "mimetype": "text/x-python",
   "name": "python",
   "nbconvert_exporter": "python",
   "pygments_lexer": "ipython3",
   "version": "3.6.9"
  }
 },
 "nbformat": 4,
 "nbformat_minor": 4
}
